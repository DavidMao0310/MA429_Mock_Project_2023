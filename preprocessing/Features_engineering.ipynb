{
 "cells": [
  {
   "cell_type": "markdown",
   "source": [
    "# Feature engineering"
   ],
   "metadata": {
    "collapsed": false
   }
  },
  {
   "cell_type": "code",
   "execution_count": 2,
   "metadata": {
    "collapsed": true
   },
   "outputs": [],
   "source": [
    "import pandas as pd\n",
    "import numpy as np\n",
    "import matplotlib.pyplot as plt\n",
    "from sklearn.preprocessing import StandardScaler, OneHotEncoder\n",
    "from sklearn.compose import ColumnTransformer\n",
    "from sklearn.pipeline import Pipeline\n",
    "from sklearn.ensemble import RandomForestClassifier\n",
    "from sklearn.model_selection import train_test_split"
   ]
  },
  {
   "cell_type": "code",
   "execution_count": 3,
   "outputs": [],
   "source": [
    "train_data = pd.read_excel('data/train_data_after_EDA.xlsx')\n",
    "test_data = pd.read_excel('data/test_with_na.xlsx')"
   ],
   "metadata": {
    "collapsed": false
   }
  },
  {
   "cell_type": "markdown",
   "source": [
    "\n",
    "### Transform the income_50k to 1, 0"
   ],
   "metadata": {
    "collapsed": false
   }
  },
  {
   "cell_type": "code",
   "execution_count": 4,
   "outputs": [],
   "source": [
    "train_data_copy = train_data\n",
    "test_data_copy = test_data\n",
    "train_data_copy['income_50k'] = 1 * (train_data_copy['income_50k'] == ' 50000+.')\n",
    "test_data_copy['income_50k'] = 1 * (test_data_copy['income_50k'] == ' 50000+.')"
   ],
   "metadata": {
    "collapsed": false
   }
  },
  {
   "cell_type": "code",
   "execution_count": 5,
   "outputs": [
    {
     "data": {
      "text/plain": "        age  wage_per_hour  capital_gains  capital_losses  stock_dividends  \\\n0        73              0              0               0                0   \n1        58              0              0               0                0   \n2        18              0              0               0                0   \n3         9              0              0               0                0   \n4        10              0              0               0                0   \n...     ...            ...            ...             ...              ...   \n199518   87              0              0               0                0   \n199519   65              0           6418               0                9   \n199520   47              0              0               0              157   \n199521   16              0              0               0                0   \n199522   32              0              0               0                0   \n\n        num_emp  own_or_self  weeks_worked  year  \\\n0             0            0             0    95   \n1             1            0            52    94   \n2             0            0             0    95   \n3             0            0             0    94   \n4             0            0             0    94   \n...         ...          ...           ...   ...   \n199518        0            0             0    95   \n199519        1            0            52    94   \n199520        6            0            52    95   \n199521        0            0             0    95   \n199522        6            0            52    94   \n\n                           class_worker  ...                        race  \\\n0                       Not in universe  ...                       White   \n1        Self-employed-not incorporated  ...                       White   \n2                       Not in universe  ...   Asian or Pacific Islander   \n3                       Not in universe  ...                       White   \n4                       Not in universe  ...                       White   \n...                                 ...  ...                         ...   \n199518                  Not in universe  ...                       White   \n199519       Self-employed-incorporated  ...                       White   \n199520                  Not in universe  ...                       White   \n199521                  Not in universe  ...                       White   \n199522                          Private  ...                       Black   \n\n            sex      union_member           full_or_part_emp  \\\n0        Female   Not in universe         Not in labor force   \n1          Male   Not in universe   Children or Armed Forces   \n2        Female   Not in universe         Not in labor force   \n3        Female   Not in universe   Children or Armed Forces   \n4        Female   Not in universe   Children or Armed Forces   \n...         ...               ...                        ...   \n199518     Male   Not in universe         Not in labor force   \n199519     Male   Not in universe   Children or Armed Forces   \n199520     Male   Not in universe   Children or Armed Forces   \n199521   Female   Not in universe         Not in labor force   \n199522   Female                No   Children or Armed Forces   \n\n                       tax_filer_stat                     det_hh_summ  \\\n0                            Nonfiler   Other relative of householder   \n1                   Head of household                     Householder   \n2                            Nonfiler               Child 18 or older   \n3                            Nonfiler    Child under 18 never married   \n4                            Nonfiler    Child under 18 never married   \n...                               ...                             ...   \n199518                 Joint both 65+                     Householder   \n199519   Joint one under 65 & one 65+                     Householder   \n199520            Joint both under 65                     Householder   \n199521                       Nonfiler    Child under 18 never married   \n199522                         Single                     Householder   \n\n                                 mig_same           fam_under_18  \\\n0        Not in universe under 1 year old        Not in universe   \n1                                      No        Not in universe   \n2        Not in universe under 1 year old        Not in universe   \n3                                     Yes   Both parents present   \n4                                     Yes   Both parents present   \n...                                   ...                    ...   \n199518   Not in universe under 1 year old        Not in universe   \n199519                                Yes        Not in universe   \n199520   Not in universe under 1 year old        Not in universe   \n199521   Not in universe under 1 year old   Both parents present   \n199522                                Yes        Not in universe   \n\n                                         citizenship income_50k  \n0                  Native- Born in the United States          0  \n1                  Native- Born in the United States          0  \n2                Foreign born- Not a citizen of U S           0  \n3                  Native- Born in the United States          0  \n4                  Native- Born in the United States          0  \n...                                              ...        ...  \n199518             Native- Born in the United States          0  \n199519             Native- Born in the United States          0  \n199520   Foreign born- U S citizen by naturalization          0  \n199521             Native- Born in the United States          0  \n199522           Foreign born- Not a citizen of U S           0  \n\n[199523 rows x 23 columns]",
      "text/html": "<div>\n<style scoped>\n    .dataframe tbody tr th:only-of-type {\n        vertical-align: middle;\n    }\n\n    .dataframe tbody tr th {\n        vertical-align: top;\n    }\n\n    .dataframe thead th {\n        text-align: right;\n    }\n</style>\n<table border=\"1\" class=\"dataframe\">\n  <thead>\n    <tr style=\"text-align: right;\">\n      <th></th>\n      <th>age</th>\n      <th>wage_per_hour</th>\n      <th>capital_gains</th>\n      <th>capital_losses</th>\n      <th>stock_dividends</th>\n      <th>num_emp</th>\n      <th>own_or_self</th>\n      <th>weeks_worked</th>\n      <th>year</th>\n      <th>class_worker</th>\n      <th>...</th>\n      <th>race</th>\n      <th>sex</th>\n      <th>union_member</th>\n      <th>full_or_part_emp</th>\n      <th>tax_filer_stat</th>\n      <th>det_hh_summ</th>\n      <th>mig_same</th>\n      <th>fam_under_18</th>\n      <th>citizenship</th>\n      <th>income_50k</th>\n    </tr>\n  </thead>\n  <tbody>\n    <tr>\n      <th>0</th>\n      <td>73</td>\n      <td>0</td>\n      <td>0</td>\n      <td>0</td>\n      <td>0</td>\n      <td>0</td>\n      <td>0</td>\n      <td>0</td>\n      <td>95</td>\n      <td>Not in universe</td>\n      <td>...</td>\n      <td>White</td>\n      <td>Female</td>\n      <td>Not in universe</td>\n      <td>Not in labor force</td>\n      <td>Nonfiler</td>\n      <td>Other relative of householder</td>\n      <td>Not in universe under 1 year old</td>\n      <td>Not in universe</td>\n      <td>Native- Born in the United States</td>\n      <td>0</td>\n    </tr>\n    <tr>\n      <th>1</th>\n      <td>58</td>\n      <td>0</td>\n      <td>0</td>\n      <td>0</td>\n      <td>0</td>\n      <td>1</td>\n      <td>0</td>\n      <td>52</td>\n      <td>94</td>\n      <td>Self-employed-not incorporated</td>\n      <td>...</td>\n      <td>White</td>\n      <td>Male</td>\n      <td>Not in universe</td>\n      <td>Children or Armed Forces</td>\n      <td>Head of household</td>\n      <td>Householder</td>\n      <td>No</td>\n      <td>Not in universe</td>\n      <td>Native- Born in the United States</td>\n      <td>0</td>\n    </tr>\n    <tr>\n      <th>2</th>\n      <td>18</td>\n      <td>0</td>\n      <td>0</td>\n      <td>0</td>\n      <td>0</td>\n      <td>0</td>\n      <td>0</td>\n      <td>0</td>\n      <td>95</td>\n      <td>Not in universe</td>\n      <td>...</td>\n      <td>Asian or Pacific Islander</td>\n      <td>Female</td>\n      <td>Not in universe</td>\n      <td>Not in labor force</td>\n      <td>Nonfiler</td>\n      <td>Child 18 or older</td>\n      <td>Not in universe under 1 year old</td>\n      <td>Not in universe</td>\n      <td>Foreign born- Not a citizen of U S</td>\n      <td>0</td>\n    </tr>\n    <tr>\n      <th>3</th>\n      <td>9</td>\n      <td>0</td>\n      <td>0</td>\n      <td>0</td>\n      <td>0</td>\n      <td>0</td>\n      <td>0</td>\n      <td>0</td>\n      <td>94</td>\n      <td>Not in universe</td>\n      <td>...</td>\n      <td>White</td>\n      <td>Female</td>\n      <td>Not in universe</td>\n      <td>Children or Armed Forces</td>\n      <td>Nonfiler</td>\n      <td>Child under 18 never married</td>\n      <td>Yes</td>\n      <td>Both parents present</td>\n      <td>Native- Born in the United States</td>\n      <td>0</td>\n    </tr>\n    <tr>\n      <th>4</th>\n      <td>10</td>\n      <td>0</td>\n      <td>0</td>\n      <td>0</td>\n      <td>0</td>\n      <td>0</td>\n      <td>0</td>\n      <td>0</td>\n      <td>94</td>\n      <td>Not in universe</td>\n      <td>...</td>\n      <td>White</td>\n      <td>Female</td>\n      <td>Not in universe</td>\n      <td>Children or Armed Forces</td>\n      <td>Nonfiler</td>\n      <td>Child under 18 never married</td>\n      <td>Yes</td>\n      <td>Both parents present</td>\n      <td>Native- Born in the United States</td>\n      <td>0</td>\n    </tr>\n    <tr>\n      <th>...</th>\n      <td>...</td>\n      <td>...</td>\n      <td>...</td>\n      <td>...</td>\n      <td>...</td>\n      <td>...</td>\n      <td>...</td>\n      <td>...</td>\n      <td>...</td>\n      <td>...</td>\n      <td>...</td>\n      <td>...</td>\n      <td>...</td>\n      <td>...</td>\n      <td>...</td>\n      <td>...</td>\n      <td>...</td>\n      <td>...</td>\n      <td>...</td>\n      <td>...</td>\n      <td>...</td>\n    </tr>\n    <tr>\n      <th>199518</th>\n      <td>87</td>\n      <td>0</td>\n      <td>0</td>\n      <td>0</td>\n      <td>0</td>\n      <td>0</td>\n      <td>0</td>\n      <td>0</td>\n      <td>95</td>\n      <td>Not in universe</td>\n      <td>...</td>\n      <td>White</td>\n      <td>Male</td>\n      <td>Not in universe</td>\n      <td>Not in labor force</td>\n      <td>Joint both 65+</td>\n      <td>Householder</td>\n      <td>Not in universe under 1 year old</td>\n      <td>Not in universe</td>\n      <td>Native- Born in the United States</td>\n      <td>0</td>\n    </tr>\n    <tr>\n      <th>199519</th>\n      <td>65</td>\n      <td>0</td>\n      <td>6418</td>\n      <td>0</td>\n      <td>9</td>\n      <td>1</td>\n      <td>0</td>\n      <td>52</td>\n      <td>94</td>\n      <td>Self-employed-incorporated</td>\n      <td>...</td>\n      <td>White</td>\n      <td>Male</td>\n      <td>Not in universe</td>\n      <td>Children or Armed Forces</td>\n      <td>Joint one under 65 &amp; one 65+</td>\n      <td>Householder</td>\n      <td>Yes</td>\n      <td>Not in universe</td>\n      <td>Native- Born in the United States</td>\n      <td>0</td>\n    </tr>\n    <tr>\n      <th>199520</th>\n      <td>47</td>\n      <td>0</td>\n      <td>0</td>\n      <td>0</td>\n      <td>157</td>\n      <td>6</td>\n      <td>0</td>\n      <td>52</td>\n      <td>95</td>\n      <td>Not in universe</td>\n      <td>...</td>\n      <td>White</td>\n      <td>Male</td>\n      <td>Not in universe</td>\n      <td>Children or Armed Forces</td>\n      <td>Joint both under 65</td>\n      <td>Householder</td>\n      <td>Not in universe under 1 year old</td>\n      <td>Not in universe</td>\n      <td>Foreign born- U S citizen by naturalization</td>\n      <td>0</td>\n    </tr>\n    <tr>\n      <th>199521</th>\n      <td>16</td>\n      <td>0</td>\n      <td>0</td>\n      <td>0</td>\n      <td>0</td>\n      <td>0</td>\n      <td>0</td>\n      <td>0</td>\n      <td>95</td>\n      <td>Not in universe</td>\n      <td>...</td>\n      <td>White</td>\n      <td>Female</td>\n      <td>Not in universe</td>\n      <td>Not in labor force</td>\n      <td>Nonfiler</td>\n      <td>Child under 18 never married</td>\n      <td>Not in universe under 1 year old</td>\n      <td>Both parents present</td>\n      <td>Native- Born in the United States</td>\n      <td>0</td>\n    </tr>\n    <tr>\n      <th>199522</th>\n      <td>32</td>\n      <td>0</td>\n      <td>0</td>\n      <td>0</td>\n      <td>0</td>\n      <td>6</td>\n      <td>0</td>\n      <td>52</td>\n      <td>94</td>\n      <td>Private</td>\n      <td>...</td>\n      <td>Black</td>\n      <td>Female</td>\n      <td>No</td>\n      <td>Children or Armed Forces</td>\n      <td>Single</td>\n      <td>Householder</td>\n      <td>Yes</td>\n      <td>Not in universe</td>\n      <td>Foreign born- Not a citizen of U S</td>\n      <td>0</td>\n    </tr>\n  </tbody>\n</table>\n<p>199523 rows × 23 columns</p>\n</div>"
     },
     "execution_count": 5,
     "metadata": {},
     "output_type": "execute_result"
    }
   ],
   "source": [
    "train_data_copy"
   ],
   "metadata": {
    "collapsed": false
   }
  },
  {
   "cell_type": "code",
   "execution_count": 6,
   "outputs": [],
   "source": [
    "test_data2 = test_data[train_data.columns.tolist()]"
   ],
   "metadata": {
    "collapsed": false
   }
  },
  {
   "cell_type": "markdown",
   "source": [
    "### Transform cate_variables to dummies and distribution check"
   ],
   "metadata": {
    "collapsed": false
   }
  },
  {
   "cell_type": "code",
   "execution_count": 7,
   "outputs": [
    {
     "data": {
      "text/plain": "        age  wage_per_hour  capital_gains  capital_losses  stock_dividends  \\\n0        73              0              0               0                0   \n1        58              0              0               0                0   \n2        18              0              0               0                0   \n3         9              0              0               0                0   \n4        10              0              0               0                0   \n...     ...            ...            ...             ...              ...   \n199518   87              0              0               0                0   \n199519   65              0           6418               0                9   \n199520   47              0              0               0              157   \n199521   16              0              0               0                0   \n199522   32              0              0               0                0   \n\n        num_emp  own_or_self  weeks_worked  year  income_50k  ...  \\\n0             0            0             0    95           0  ...   \n1             1            0            52    94           0  ...   \n2             0            0             0    95           0  ...   \n3             0            0             0    94           0  ...   \n4             0            0             0    94           0  ...   \n...         ...          ...           ...   ...         ...  ...   \n199518        0            0             0    95           0  ...   \n199519        1            0            52    94           0  ...   \n199520        6            0            52    95           0  ...   \n199521        0            0             0    95           0  ...   \n199522        6            0            52    94           0  ...   \n\n        fam_under_18_ Both parents present  fam_under_18_ Father only present  \\\n0                                        0                                  0   \n1                                        0                                  0   \n2                                        0                                  0   \n3                                        1                                  0   \n4                                        1                                  0   \n...                                    ...                                ...   \n199518                                   0                                  0   \n199519                                   0                                  0   \n199520                                   0                                  0   \n199521                                   1                                  0   \n199522                                   0                                  0   \n\n        fam_under_18_ Mother only present  \\\n0                                       0   \n1                                       0   \n2                                       0   \n3                                       0   \n4                                       0   \n...                                   ...   \n199518                                  0   \n199519                                  0   \n199520                                  0   \n199521                                  0   \n199522                                  0   \n\n        fam_under_18_ Neither parent present  fam_under_18_ Not in universe  \\\n0                                          0                              1   \n1                                          0                              1   \n2                                          0                              1   \n3                                          0                              0   \n4                                          0                              0   \n...                                      ...                            ...   \n199518                                     0                              1   \n199519                                     0                              1   \n199520                                     0                              1   \n199521                                     0                              0   \n199522                                     0                              1   \n\n        citizenship_ Foreign born- Not a citizen of U S   \\\n0                                                      0   \n1                                                      0   \n2                                                      1   \n3                                                      0   \n4                                                      0   \n...                                                  ...   \n199518                                                 0   \n199519                                                 0   \n199520                                                 0   \n199521                                                 0   \n199522                                                 1   \n\n        citizenship_ Foreign born- U S citizen by naturalization  \\\n0                                                       0          \n1                                                       0          \n2                                                       0          \n3                                                       0          \n4                                                       0          \n...                                                   ...          \n199518                                                  0          \n199519                                                  0          \n199520                                                  1          \n199521                                                  0          \n199522                                                  0          \n\n        citizenship_ Native- Born abroad of American Parent(s)  \\\n0                                                       0        \n1                                                       0        \n2                                                       0        \n3                                                       0        \n4                                                       0        \n...                                                   ...        \n199518                                                  0        \n199519                                                  0        \n199520                                                  0        \n199521                                                  0        \n199522                                                  0        \n\n        citizenship_ Native- Born in Puerto Rico or U S Outlying  \\\n0                                                       0          \n1                                                       0          \n2                                                       0          \n3                                                       0          \n4                                                       0          \n...                                                   ...          \n199518                                                  0          \n199519                                                  0          \n199520                                                  0          \n199521                                                  0          \n199522                                                  0          \n\n        citizenship_ Native- Born in the United States  \n0                                                    1  \n1                                                    1  \n2                                                    0  \n3                                                    1  \n4                                                    1  \n...                                                ...  \n199518                                               1  \n199519                                               1  \n199520                                               0  \n199521                                               1  \n199522                                               0  \n\n[199523 rows x 103 columns]",
      "text/html": "<div>\n<style scoped>\n    .dataframe tbody tr th:only-of-type {\n        vertical-align: middle;\n    }\n\n    .dataframe tbody tr th {\n        vertical-align: top;\n    }\n\n    .dataframe thead th {\n        text-align: right;\n    }\n</style>\n<table border=\"1\" class=\"dataframe\">\n  <thead>\n    <tr style=\"text-align: right;\">\n      <th></th>\n      <th>age</th>\n      <th>wage_per_hour</th>\n      <th>capital_gains</th>\n      <th>capital_losses</th>\n      <th>stock_dividends</th>\n      <th>num_emp</th>\n      <th>own_or_self</th>\n      <th>weeks_worked</th>\n      <th>year</th>\n      <th>income_50k</th>\n      <th>...</th>\n      <th>fam_under_18_ Both parents present</th>\n      <th>fam_under_18_ Father only present</th>\n      <th>fam_under_18_ Mother only present</th>\n      <th>fam_under_18_ Neither parent present</th>\n      <th>fam_under_18_ Not in universe</th>\n      <th>citizenship_ Foreign born- Not a citizen of U S</th>\n      <th>citizenship_ Foreign born- U S citizen by naturalization</th>\n      <th>citizenship_ Native- Born abroad of American Parent(s)</th>\n      <th>citizenship_ Native- Born in Puerto Rico or U S Outlying</th>\n      <th>citizenship_ Native- Born in the United States</th>\n    </tr>\n  </thead>\n  <tbody>\n    <tr>\n      <th>0</th>\n      <td>73</td>\n      <td>0</td>\n      <td>0</td>\n      <td>0</td>\n      <td>0</td>\n      <td>0</td>\n      <td>0</td>\n      <td>0</td>\n      <td>95</td>\n      <td>0</td>\n      <td>...</td>\n      <td>0</td>\n      <td>0</td>\n      <td>0</td>\n      <td>0</td>\n      <td>1</td>\n      <td>0</td>\n      <td>0</td>\n      <td>0</td>\n      <td>0</td>\n      <td>1</td>\n    </tr>\n    <tr>\n      <th>1</th>\n      <td>58</td>\n      <td>0</td>\n      <td>0</td>\n      <td>0</td>\n      <td>0</td>\n      <td>1</td>\n      <td>0</td>\n      <td>52</td>\n      <td>94</td>\n      <td>0</td>\n      <td>...</td>\n      <td>0</td>\n      <td>0</td>\n      <td>0</td>\n      <td>0</td>\n      <td>1</td>\n      <td>0</td>\n      <td>0</td>\n      <td>0</td>\n      <td>0</td>\n      <td>1</td>\n    </tr>\n    <tr>\n      <th>2</th>\n      <td>18</td>\n      <td>0</td>\n      <td>0</td>\n      <td>0</td>\n      <td>0</td>\n      <td>0</td>\n      <td>0</td>\n      <td>0</td>\n      <td>95</td>\n      <td>0</td>\n      <td>...</td>\n      <td>0</td>\n      <td>0</td>\n      <td>0</td>\n      <td>0</td>\n      <td>1</td>\n      <td>1</td>\n      <td>0</td>\n      <td>0</td>\n      <td>0</td>\n      <td>0</td>\n    </tr>\n    <tr>\n      <th>3</th>\n      <td>9</td>\n      <td>0</td>\n      <td>0</td>\n      <td>0</td>\n      <td>0</td>\n      <td>0</td>\n      <td>0</td>\n      <td>0</td>\n      <td>94</td>\n      <td>0</td>\n      <td>...</td>\n      <td>1</td>\n      <td>0</td>\n      <td>0</td>\n      <td>0</td>\n      <td>0</td>\n      <td>0</td>\n      <td>0</td>\n      <td>0</td>\n      <td>0</td>\n      <td>1</td>\n    </tr>\n    <tr>\n      <th>4</th>\n      <td>10</td>\n      <td>0</td>\n      <td>0</td>\n      <td>0</td>\n      <td>0</td>\n      <td>0</td>\n      <td>0</td>\n      <td>0</td>\n      <td>94</td>\n      <td>0</td>\n      <td>...</td>\n      <td>1</td>\n      <td>0</td>\n      <td>0</td>\n      <td>0</td>\n      <td>0</td>\n      <td>0</td>\n      <td>0</td>\n      <td>0</td>\n      <td>0</td>\n      <td>1</td>\n    </tr>\n    <tr>\n      <th>...</th>\n      <td>...</td>\n      <td>...</td>\n      <td>...</td>\n      <td>...</td>\n      <td>...</td>\n      <td>...</td>\n      <td>...</td>\n      <td>...</td>\n      <td>...</td>\n      <td>...</td>\n      <td>...</td>\n      <td>...</td>\n      <td>...</td>\n      <td>...</td>\n      <td>...</td>\n      <td>...</td>\n      <td>...</td>\n      <td>...</td>\n      <td>...</td>\n      <td>...</td>\n      <td>...</td>\n    </tr>\n    <tr>\n      <th>199518</th>\n      <td>87</td>\n      <td>0</td>\n      <td>0</td>\n      <td>0</td>\n      <td>0</td>\n      <td>0</td>\n      <td>0</td>\n      <td>0</td>\n      <td>95</td>\n      <td>0</td>\n      <td>...</td>\n      <td>0</td>\n      <td>0</td>\n      <td>0</td>\n      <td>0</td>\n      <td>1</td>\n      <td>0</td>\n      <td>0</td>\n      <td>0</td>\n      <td>0</td>\n      <td>1</td>\n    </tr>\n    <tr>\n      <th>199519</th>\n      <td>65</td>\n      <td>0</td>\n      <td>6418</td>\n      <td>0</td>\n      <td>9</td>\n      <td>1</td>\n      <td>0</td>\n      <td>52</td>\n      <td>94</td>\n      <td>0</td>\n      <td>...</td>\n      <td>0</td>\n      <td>0</td>\n      <td>0</td>\n      <td>0</td>\n      <td>1</td>\n      <td>0</td>\n      <td>0</td>\n      <td>0</td>\n      <td>0</td>\n      <td>1</td>\n    </tr>\n    <tr>\n      <th>199520</th>\n      <td>47</td>\n      <td>0</td>\n      <td>0</td>\n      <td>0</td>\n      <td>157</td>\n      <td>6</td>\n      <td>0</td>\n      <td>52</td>\n      <td>95</td>\n      <td>0</td>\n      <td>...</td>\n      <td>0</td>\n      <td>0</td>\n      <td>0</td>\n      <td>0</td>\n      <td>1</td>\n      <td>0</td>\n      <td>1</td>\n      <td>0</td>\n      <td>0</td>\n      <td>0</td>\n    </tr>\n    <tr>\n      <th>199521</th>\n      <td>16</td>\n      <td>0</td>\n      <td>0</td>\n      <td>0</td>\n      <td>0</td>\n      <td>0</td>\n      <td>0</td>\n      <td>0</td>\n      <td>95</td>\n      <td>0</td>\n      <td>...</td>\n      <td>1</td>\n      <td>0</td>\n      <td>0</td>\n      <td>0</td>\n      <td>0</td>\n      <td>0</td>\n      <td>0</td>\n      <td>0</td>\n      <td>0</td>\n      <td>1</td>\n    </tr>\n    <tr>\n      <th>199522</th>\n      <td>32</td>\n      <td>0</td>\n      <td>0</td>\n      <td>0</td>\n      <td>0</td>\n      <td>6</td>\n      <td>0</td>\n      <td>52</td>\n      <td>94</td>\n      <td>0</td>\n      <td>...</td>\n      <td>0</td>\n      <td>0</td>\n      <td>0</td>\n      <td>0</td>\n      <td>1</td>\n      <td>1</td>\n      <td>0</td>\n      <td>0</td>\n      <td>0</td>\n      <td>0</td>\n    </tr>\n  </tbody>\n</table>\n<p>199523 rows × 103 columns</p>\n</div>"
     },
     "execution_count": 7,
     "metadata": {},
     "output_type": "execute_result"
    }
   ],
   "source": [
    "pd.get_dummies(train_data_copy)"
   ],
   "metadata": {
    "collapsed": false
   }
  },
  {
   "cell_type": "code",
   "execution_count": 8,
   "outputs": [],
   "source": [
    "cat_cols = train_data.select_dtypes(include=['object']).columns\n",
    "num_cols = train_data.select_dtypes(include=['number']).columns\n",
    "data_cat = train_data[cat_cols]\n",
    "data_num = train_data[num_cols]"
   ],
   "metadata": {
    "collapsed": false
   }
  },
  {
   "cell_type": "code",
   "execution_count": 9,
   "outputs": [
    {
     "data": {
      "text/plain": "class_worker         9\neducation           17\nmarital_stat         7\nmajor_occ_code      15\nrace                 5\nsex                  2\nunion_member         3\nfull_or_part_emp     8\ntax_filer_stat       6\ndet_hh_summ          8\nmig_same             3\nfam_under_18         5\ncitizenship          5\ndtype: int64"
     },
     "execution_count": 9,
     "metadata": {},
     "output_type": "execute_result"
    }
   ],
   "source": [
    "data_cat.nunique()"
   ],
   "metadata": {
    "collapsed": false
   }
  },
  {
   "cell_type": "markdown",
   "source": [
    "We can drop the first since the degree of freedom is n-1"
   ],
   "metadata": {
    "collapsed": false
   }
  },
  {
   "cell_type": "code",
   "execution_count": 10,
   "outputs": [],
   "source": [
    "from sklearn.svm import SVC\n"
   ],
   "metadata": {
    "collapsed": false
   }
  },
  {
   "cell_type": "code",
   "execution_count": 11,
   "outputs": [],
   "source": [
    "# Separate features and target variable in train dataframe\n",
    "train_features = train_data.drop('income_50k', axis=1)\n",
    "train_target = train_data['income_50k']\n",
    "\n",
    "# Separate features and target variable in test dataframe\n",
    "test_features = test_data2.drop('income_50k', axis=1)\n",
    "test_target = test_data2['income_50k']\n"
   ],
   "metadata": {
    "collapsed": false
   }
  },
  {
   "cell_type": "code",
   "execution_count": 12,
   "outputs": [
    {
     "data": {
      "text/plain": "0         0\n1         0\n2         0\n3         0\n4         0\n         ..\n199518    0\n199519    0\n199520    0\n199521    0\n199522    0\nName: income_50k, Length: 199523, dtype: int64"
     },
     "execution_count": 12,
     "metadata": {},
     "output_type": "execute_result"
    }
   ],
   "source": [
    "train_target"
   ],
   "metadata": {
    "collapsed": false
   }
  },
  {
   "cell_type": "code",
   "execution_count": 13,
   "outputs": [
    {
     "data": {
      "text/plain": "Pipeline(steps=[('preprocessor',\n                 ColumnTransformer(transformers=[('num', StandardScaler(),\n                                                  Index(['age', 'wage_per_hour', 'capital_gains', 'capital_losses',\n       'stock_dividends', 'num_emp', 'own_or_self', 'weeks_worked', 'year'],\n      dtype='object')),\n                                                 ('cat',\n                                                  OneHotEncoder(handle_unknown='ignore'),\n                                                  Index(['class_worker', 'education', 'marital_stat', 'major_occ_code', 'race',\n       'sex', 'union_member', 'full_or_part_emp', 'tax_filer_stat',\n       'det_hh_summ', 'mig_same', 'fam_under_18', 'citizenship'],\n      dtype='object'))])),\n                ('classifier', RandomForestClassifier(random_state=42))])",
      "text/html": "<style>#sk-container-id-1 {color: black;background-color: white;}#sk-container-id-1 pre{padding: 0;}#sk-container-id-1 div.sk-toggleable {background-color: white;}#sk-container-id-1 label.sk-toggleable__label {cursor: pointer;display: block;width: 100%;margin-bottom: 0;padding: 0.3em;box-sizing: border-box;text-align: center;}#sk-container-id-1 label.sk-toggleable__label-arrow:before {content: \"▸\";float: left;margin-right: 0.25em;color: #696969;}#sk-container-id-1 label.sk-toggleable__label-arrow:hover:before {color: black;}#sk-container-id-1 div.sk-estimator:hover label.sk-toggleable__label-arrow:before {color: black;}#sk-container-id-1 div.sk-toggleable__content {max-height: 0;max-width: 0;overflow: hidden;text-align: left;background-color: #f0f8ff;}#sk-container-id-1 div.sk-toggleable__content pre {margin: 0.2em;color: black;border-radius: 0.25em;background-color: #f0f8ff;}#sk-container-id-1 input.sk-toggleable__control:checked~div.sk-toggleable__content {max-height: 200px;max-width: 100%;overflow: auto;}#sk-container-id-1 input.sk-toggleable__control:checked~label.sk-toggleable__label-arrow:before {content: \"▾\";}#sk-container-id-1 div.sk-estimator input.sk-toggleable__control:checked~label.sk-toggleable__label {background-color: #d4ebff;}#sk-container-id-1 div.sk-label input.sk-toggleable__control:checked~label.sk-toggleable__label {background-color: #d4ebff;}#sk-container-id-1 input.sk-hidden--visually {border: 0;clip: rect(1px 1px 1px 1px);clip: rect(1px, 1px, 1px, 1px);height: 1px;margin: -1px;overflow: hidden;padding: 0;position: absolute;width: 1px;}#sk-container-id-1 div.sk-estimator {font-family: monospace;background-color: #f0f8ff;border: 1px dotted black;border-radius: 0.25em;box-sizing: border-box;margin-bottom: 0.5em;}#sk-container-id-1 div.sk-estimator:hover {background-color: #d4ebff;}#sk-container-id-1 div.sk-parallel-item::after {content: \"\";width: 100%;border-bottom: 1px solid gray;flex-grow: 1;}#sk-container-id-1 div.sk-label:hover label.sk-toggleable__label {background-color: #d4ebff;}#sk-container-id-1 div.sk-serial::before {content: \"\";position: absolute;border-left: 1px solid gray;box-sizing: border-box;top: 0;bottom: 0;left: 50%;z-index: 0;}#sk-container-id-1 div.sk-serial {display: flex;flex-direction: column;align-items: center;background-color: white;padding-right: 0.2em;padding-left: 0.2em;position: relative;}#sk-container-id-1 div.sk-item {position: relative;z-index: 1;}#sk-container-id-1 div.sk-parallel {display: flex;align-items: stretch;justify-content: center;background-color: white;position: relative;}#sk-container-id-1 div.sk-item::before, #sk-container-id-1 div.sk-parallel-item::before {content: \"\";position: absolute;border-left: 1px solid gray;box-sizing: border-box;top: 0;bottom: 0;left: 50%;z-index: -1;}#sk-container-id-1 div.sk-parallel-item {display: flex;flex-direction: column;z-index: 1;position: relative;background-color: white;}#sk-container-id-1 div.sk-parallel-item:first-child::after {align-self: flex-end;width: 50%;}#sk-container-id-1 div.sk-parallel-item:last-child::after {align-self: flex-start;width: 50%;}#sk-container-id-1 div.sk-parallel-item:only-child::after {width: 0;}#sk-container-id-1 div.sk-dashed-wrapped {border: 1px dashed gray;margin: 0 0.4em 0.5em 0.4em;box-sizing: border-box;padding-bottom: 0.4em;background-color: white;}#sk-container-id-1 div.sk-label label {font-family: monospace;font-weight: bold;display: inline-block;line-height: 1.2em;}#sk-container-id-1 div.sk-label-container {text-align: center;}#sk-container-id-1 div.sk-container {/* jupyter's `normalize.less` sets `[hidden] { display: none; }` but bootstrap.min.css set `[hidden] { display: none !important; }` so we also need the `!important` here to be able to override the default hidden behavior on the sphinx rendered scikit-learn.org. See: https://github.com/scikit-learn/scikit-learn/issues/21755 */display: inline-block !important;position: relative;}#sk-container-id-1 div.sk-text-repr-fallback {display: none;}</style><div id=\"sk-container-id-1\" class=\"sk-top-container\"><div class=\"sk-text-repr-fallback\"><pre>Pipeline(steps=[(&#x27;preprocessor&#x27;,\n                 ColumnTransformer(transformers=[(&#x27;num&#x27;, StandardScaler(),\n                                                  Index([&#x27;age&#x27;, &#x27;wage_per_hour&#x27;, &#x27;capital_gains&#x27;, &#x27;capital_losses&#x27;,\n       &#x27;stock_dividends&#x27;, &#x27;num_emp&#x27;, &#x27;own_or_self&#x27;, &#x27;weeks_worked&#x27;, &#x27;year&#x27;],\n      dtype=&#x27;object&#x27;)),\n                                                 (&#x27;cat&#x27;,\n                                                  OneHotEncoder(handle_unknown=&#x27;ignore&#x27;),\n                                                  Index([&#x27;class_worker&#x27;, &#x27;education&#x27;, &#x27;marital_stat&#x27;, &#x27;major_occ_code&#x27;, &#x27;race&#x27;,\n       &#x27;sex&#x27;, &#x27;union_member&#x27;, &#x27;full_or_part_emp&#x27;, &#x27;tax_filer_stat&#x27;,\n       &#x27;det_hh_summ&#x27;, &#x27;mig_same&#x27;, &#x27;fam_under_18&#x27;, &#x27;citizenship&#x27;],\n      dtype=&#x27;object&#x27;))])),\n                (&#x27;classifier&#x27;, RandomForestClassifier(random_state=42))])</pre><b>In a Jupyter environment, please rerun this cell to show the HTML representation or trust the notebook. <br />On GitHub, the HTML representation is unable to render, please try loading this page with nbviewer.org.</b></div><div class=\"sk-container\" hidden><div class=\"sk-item sk-dashed-wrapped\"><div class=\"sk-label-container\"><div class=\"sk-label sk-toggleable\"><input class=\"sk-toggleable__control sk-hidden--visually\" id=\"sk-estimator-id-1\" type=\"checkbox\" ><label for=\"sk-estimator-id-1\" class=\"sk-toggleable__label sk-toggleable__label-arrow\">Pipeline</label><div class=\"sk-toggleable__content\"><pre>Pipeline(steps=[(&#x27;preprocessor&#x27;,\n                 ColumnTransformer(transformers=[(&#x27;num&#x27;, StandardScaler(),\n                                                  Index([&#x27;age&#x27;, &#x27;wage_per_hour&#x27;, &#x27;capital_gains&#x27;, &#x27;capital_losses&#x27;,\n       &#x27;stock_dividends&#x27;, &#x27;num_emp&#x27;, &#x27;own_or_self&#x27;, &#x27;weeks_worked&#x27;, &#x27;year&#x27;],\n      dtype=&#x27;object&#x27;)),\n                                                 (&#x27;cat&#x27;,\n                                                  OneHotEncoder(handle_unknown=&#x27;ignore&#x27;),\n                                                  Index([&#x27;class_worker&#x27;, &#x27;education&#x27;, &#x27;marital_stat&#x27;, &#x27;major_occ_code&#x27;, &#x27;race&#x27;,\n       &#x27;sex&#x27;, &#x27;union_member&#x27;, &#x27;full_or_part_emp&#x27;, &#x27;tax_filer_stat&#x27;,\n       &#x27;det_hh_summ&#x27;, &#x27;mig_same&#x27;, &#x27;fam_under_18&#x27;, &#x27;citizenship&#x27;],\n      dtype=&#x27;object&#x27;))])),\n                (&#x27;classifier&#x27;, RandomForestClassifier(random_state=42))])</pre></div></div></div><div class=\"sk-serial\"><div class=\"sk-item sk-dashed-wrapped\"><div class=\"sk-label-container\"><div class=\"sk-label sk-toggleable\"><input class=\"sk-toggleable__control sk-hidden--visually\" id=\"sk-estimator-id-2\" type=\"checkbox\" ><label for=\"sk-estimator-id-2\" class=\"sk-toggleable__label sk-toggleable__label-arrow\">preprocessor: ColumnTransformer</label><div class=\"sk-toggleable__content\"><pre>ColumnTransformer(transformers=[(&#x27;num&#x27;, StandardScaler(),\n                                 Index([&#x27;age&#x27;, &#x27;wage_per_hour&#x27;, &#x27;capital_gains&#x27;, &#x27;capital_losses&#x27;,\n       &#x27;stock_dividends&#x27;, &#x27;num_emp&#x27;, &#x27;own_or_self&#x27;, &#x27;weeks_worked&#x27;, &#x27;year&#x27;],\n      dtype=&#x27;object&#x27;)),\n                                (&#x27;cat&#x27;, OneHotEncoder(handle_unknown=&#x27;ignore&#x27;),\n                                 Index([&#x27;class_worker&#x27;, &#x27;education&#x27;, &#x27;marital_stat&#x27;, &#x27;major_occ_code&#x27;, &#x27;race&#x27;,\n       &#x27;sex&#x27;, &#x27;union_member&#x27;, &#x27;full_or_part_emp&#x27;, &#x27;tax_filer_stat&#x27;,\n       &#x27;det_hh_summ&#x27;, &#x27;mig_same&#x27;, &#x27;fam_under_18&#x27;, &#x27;citizenship&#x27;],\n      dtype=&#x27;object&#x27;))])</pre></div></div></div><div class=\"sk-parallel\"><div class=\"sk-parallel-item\"><div class=\"sk-item\"><div class=\"sk-label-container\"><div class=\"sk-label sk-toggleable\"><input class=\"sk-toggleable__control sk-hidden--visually\" id=\"sk-estimator-id-3\" type=\"checkbox\" ><label for=\"sk-estimator-id-3\" class=\"sk-toggleable__label sk-toggleable__label-arrow\">num</label><div class=\"sk-toggleable__content\"><pre>Index([&#x27;age&#x27;, &#x27;wage_per_hour&#x27;, &#x27;capital_gains&#x27;, &#x27;capital_losses&#x27;,\n       &#x27;stock_dividends&#x27;, &#x27;num_emp&#x27;, &#x27;own_or_self&#x27;, &#x27;weeks_worked&#x27;, &#x27;year&#x27;],\n      dtype=&#x27;object&#x27;)</pre></div></div></div><div class=\"sk-serial\"><div class=\"sk-item\"><div class=\"sk-estimator sk-toggleable\"><input class=\"sk-toggleable__control sk-hidden--visually\" id=\"sk-estimator-id-4\" type=\"checkbox\" ><label for=\"sk-estimator-id-4\" class=\"sk-toggleable__label sk-toggleable__label-arrow\">StandardScaler</label><div class=\"sk-toggleable__content\"><pre>StandardScaler()</pre></div></div></div></div></div></div><div class=\"sk-parallel-item\"><div class=\"sk-item\"><div class=\"sk-label-container\"><div class=\"sk-label sk-toggleable\"><input class=\"sk-toggleable__control sk-hidden--visually\" id=\"sk-estimator-id-5\" type=\"checkbox\" ><label for=\"sk-estimator-id-5\" class=\"sk-toggleable__label sk-toggleable__label-arrow\">cat</label><div class=\"sk-toggleable__content\"><pre>Index([&#x27;class_worker&#x27;, &#x27;education&#x27;, &#x27;marital_stat&#x27;, &#x27;major_occ_code&#x27;, &#x27;race&#x27;,\n       &#x27;sex&#x27;, &#x27;union_member&#x27;, &#x27;full_or_part_emp&#x27;, &#x27;tax_filer_stat&#x27;,\n       &#x27;det_hh_summ&#x27;, &#x27;mig_same&#x27;, &#x27;fam_under_18&#x27;, &#x27;citizenship&#x27;],\n      dtype=&#x27;object&#x27;)</pre></div></div></div><div class=\"sk-serial\"><div class=\"sk-item\"><div class=\"sk-estimator sk-toggleable\"><input class=\"sk-toggleable__control sk-hidden--visually\" id=\"sk-estimator-id-6\" type=\"checkbox\" ><label for=\"sk-estimator-id-6\" class=\"sk-toggleable__label sk-toggleable__label-arrow\">OneHotEncoder</label><div class=\"sk-toggleable__content\"><pre>OneHotEncoder(handle_unknown=&#x27;ignore&#x27;)</pre></div></div></div></div></div></div></div></div><div class=\"sk-item\"><div class=\"sk-estimator sk-toggleable\"><input class=\"sk-toggleable__control sk-hidden--visually\" id=\"sk-estimator-id-7\" type=\"checkbox\" ><label for=\"sk-estimator-id-7\" class=\"sk-toggleable__label sk-toggleable__label-arrow\">RandomForestClassifier</label><div class=\"sk-toggleable__content\"><pre>RandomForestClassifier(random_state=42)</pre></div></div></div></div></div></div></div>"
     },
     "execution_count": 13,
     "metadata": {},
     "output_type": "execute_result"
    }
   ],
   "source": [
    "# Define the preprocessing steps for numerical and categorical variables\n",
    "num_transformer = StandardScaler()\n",
    "cat_transformer = OneHotEncoder(handle_unknown='ignore')\n",
    "\n",
    "preprocessor = ColumnTransformer(\n",
    "    transformers=[\n",
    "        ('num', num_transformer, train_features.select_dtypes(include=['int64', 'float64']).columns),\n",
    "        ('cat', cat_transformer, train_features.select_dtypes(include=['object']).columns)\n",
    "    ])\n",
    "\n",
    "# Define the pipeline\n",
    "pipeline = Pipeline(steps=[\n",
    "    ('preprocessor', preprocessor),\n",
    "    ('classifier', RandomForestClassifier(n_estimators=100, random_state=42))\n",
    "])\n",
    "# Fit the pipeline to the train data\n",
    "pipeline.fit(train_features, train_target)\n"
   ],
   "metadata": {
    "collapsed": false
   }
  },
  {
   "cell_type": "code",
   "execution_count": 14,
   "outputs": [],
   "source": [
    "# Use the trained pipeline to predict the target variable for the test data\n",
    "test_predictions = pipeline.predict(test_features)"
   ],
   "metadata": {
    "collapsed": false
   }
  },
  {
   "cell_type": "code",
   "execution_count": 18,
   "outputs": [
    {
     "name": "stdout",
     "output_type": "stream",
     "text": [
      "Test accuracy: 0.95\n"
     ]
    }
   ],
   "source": [
    "from sklearn.metrics import accuracy_score, roc_curve, auc, confusion_matrix, classification_report\n",
    "\n",
    "# Evaluate the performance of the pipeline using accuracy score\n",
    "accuracy = accuracy_score(test_target, test_predictions)\n",
    "print(f'Test accuracy: {accuracy:.2f}')"
   ],
   "metadata": {
    "collapsed": false
   }
  },
  {
   "cell_type": "code",
   "execution_count": 25,
   "outputs": [],
   "source": [
    "test_predictions_prob = pipeline.predict_proba(test_features)"
   ],
   "metadata": {
    "collapsed": false
   }
  },
  {
   "cell_type": "code",
   "execution_count": 41,
   "outputs": [
    {
     "data": {
      "text/plain": "array([0.        , 0.09      , 0.        , ..., 0.03      , 0.31041667,\n       0.        ])"
     },
     "execution_count": 41,
     "metadata": {},
     "output_type": "execute_result"
    }
   ],
   "source": [
    "test_predictions_prob[:,1]\n"
   ],
   "metadata": {
    "collapsed": false
   }
  },
  {
   "cell_type": "code",
   "execution_count": 43,
   "outputs": [
    {
     "name": "stdout",
     "output_type": "stream",
     "text": [
      "ROC AUC: 0.9274796874599646\n",
      "Confusion matrix:\n",
      "[[92274  1302]\n",
      " [ 3486  2700]]\n",
      "Classification report:\n",
      "              precision    recall  f1-score   support\n",
      "\n",
      "           0       0.96      0.99      0.97     93576\n",
      "           1       0.67      0.44      0.53      6186\n",
      "\n",
      "    accuracy                           0.95     99762\n",
      "   macro avg       0.82      0.71      0.75     99762\n",
      "weighted avg       0.95      0.95      0.95     99762\n",
      "\n"
     ]
    }
   ],
   "source": [
    "fpr, tpr, thresholds = roc_curve(test_target, test_predictions_prob[:,1])\n",
    "roc_auc = auc(fpr, tpr)\n",
    "print(f'ROC AUC: {roc_auc}')\n",
    "cm = confusion_matrix(test_target, test_predictions)\n",
    "print(f'Confusion matrix:\\n{cm}')\n",
    "report = classification_report(test_target, test_predictions)\n",
    "print(f'Classification report:\\n{report}')\n",
    "# Plot ROC curve"
   ],
   "metadata": {
    "collapsed": false
   }
  },
  {
   "cell_type": "code",
   "execution_count": 44,
   "outputs": [
    {
     "data": {
      "text/plain": "array([2.00000000e+00, 1.00000000e+00, 9.90833333e-01, ...,\n       4.00000000e-04, 3.03030303e-04, 0.00000000e+00])"
     },
     "execution_count": 44,
     "metadata": {},
     "output_type": "execute_result"
    }
   ],
   "source": [
    "thresholds"
   ],
   "metadata": {
    "collapsed": false
   }
  },
  {
   "cell_type": "code",
   "execution_count": 45,
   "outputs": [
    {
     "data": {
      "text/plain": "<Figure size 640x480 with 1 Axes>",
      "image/png": "[encoded data removed]"
     },
     "metadata": {},
     "output_type": "display_data"
    }
   ],
   "source": [
    "plt.plot(fpr, tpr, label=f'(ROC AUC = {roc_auc:.2f})')\n",
    "plt.show()"
   ],
   "metadata": {
    "collapsed": false
   }
  },
  {
   "cell_type": "code",
   "execution_count": 16,
   "outputs": [
    {
     "data": {
      "text/plain": "0        0\n1        0\n2        0\n3        0\n4        0\n        ..\n99757    0\n99758    0\n99759    0\n99760    0\n99761    0\nName: income_50k, Length: 99762, dtype: int64"
     },
     "execution_count": 16,
     "metadata": {},
     "output_type": "execute_result"
    }
   ],
   "source": [
    "test_target"
   ],
   "metadata": {
    "collapsed": false
   }
  },
  {
   "cell_type": "code",
   "execution_count": 73,
   "outputs": [],
   "source": [
    "#train_data_copy.to_csv('train_copy.csv',index=False)\n",
    "#test_data_copy.to_csv('test_copy.csv',index=False)"
   ],
   "metadata": {
    "collapsed": false
   }
  },
  {
   "cell_type": "code",
   "execution_count": null,
   "outputs": [],
   "source": [],
   "metadata": {
    "collapsed": false
   }
  }
 ],
 "metadata": {
  "kernelspec": {
   "display_name": "Python 3",
   "language": "python",
   "name": "python3"
  },
  "language_info": {
   "codemirror_mode": {
    "name": "ipython",
    "version": 2
   },
   "file_extension": ".py",
   "mimetype": "text/x-python",
   "name": "python",
   "nbconvert_exporter": "python",
   "pygments_lexer": "ipython2",
   "version": "2.7.6"
  }
 },
 "nbformat": 4,
 "nbformat_minor": 0
}
